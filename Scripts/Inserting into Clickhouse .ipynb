{
 "cells": [
  {
   "cell_type": "code",
   "execution_count": 3,
   "metadata": {},
   "outputs": [
    {
     "data": {
      "text/plain": [
       "26"
      ]
     },
     "execution_count": 3,
     "metadata": {},
     "output_type": "execute_result"
    }
   ],
   "source": [
    "from clickhouse_driver import Client\n",
    "import csv\n",
    "\n",
    "client = Client(host='34.70.65.12', \n",
    "                    user = \"default\", \n",
    "                    password = \"\", \n",
    "                    database = \"\")\n",
    "\n",
    "\n",
    "with open('IAB General Categories.csv') as iab_csv:\n",
    "    rows=[line for line in csv.reader(iab_csv)]\n",
    "\n",
    "# List of rows is materialized. \n",
    "client.execute(\"INSERT INTO IAB_Categories VALUES\", rows)\n"
   ]
  },
  {
   "cell_type": "code",
   "execution_count": null,
   "metadata": {},
   "outputs": [],
   "source": []
  }
 ],
 "metadata": {
  "kernelspec": {
   "display_name": "Python 3",
   "language": "python",
   "name": "python3"
  },
  "language_info": {
   "codemirror_mode": {
    "name": "ipython",
    "version": 3
   },
   "file_extension": ".py",
   "mimetype": "text/x-python",
   "name": "python",
   "nbconvert_exporter": "python",
   "pygments_lexer": "ipython3",
   "version": "3.7.1"
  }
 },
 "nbformat": 4,
 "nbformat_minor": 4
}
